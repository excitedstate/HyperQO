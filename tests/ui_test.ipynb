{
 "cells": [
  {
   "cell_type": "code",
   "execution_count": 3,
   "metadata": {
    "collapsed": true,
    "ExecuteTime": {
     "end_time": "2023-05-23T12:05:54.784404522Z",
     "start_time": "2023-05-23T12:05:54.740325653Z"
    }
   },
   "outputs": [
    {
     "name": "stdout",
     "output_type": "stream",
     "text": [
      "load model from /home/bing/Projects/PythonProjects/HyperQO/data/model/model_checkpoint.pth\n"
     ]
    }
   ],
   "source": [
    "import src.config as config\n",
    "import random\n",
    "import typing\n",
    "from src.encoding import TreeBuilder, SQLEncoder\n",
    "from src.hints import HyperQO\n",
    "from src.mcts import MCTSHinterSearch\n",
    "from src.net import TreeNet\n",
    "from src.tree_lstm import SPINN\n",
    "\n",
    "\n",
    "def get_hyper_qo_instance():\n",
    "    random.seed(113)\n",
    "\n",
    "    tree_builder = TreeBuilder()\n",
    "\n",
    "    value_network = SPINN(head_num=config.NET_HEAD_NUM,\n",
    "                          input_size=7 + 2,\n",
    "                          hidden_size=config.NET_HIDDEN_SIZE,\n",
    "                          table_num=50,\n",
    "                          sql_size=40 * 40 + config.MAX_COLUMN_ID).to(config.DEVICE_NAME)\n",
    "\n",
    "    tree_net = TreeNet(tree_builder=tree_builder, value_network=value_network)\n",
    "    mcts_searcher = MCTSHinterSearch()\n",
    "\n",
    "    hint_generator = HyperQO(tree_net=tree_net,\n",
    "                             sql2vec=SQLEncoder(),\n",
    "                             value_extractor=tree_builder.value_extractor,\n",
    "                             mcts_searcher=mcts_searcher)\n",
    "    return hint_generator\n",
    "\n",
    "\n",
    "DEFAULT_HINT_GENERATOR = get_hyper_qo_instance()\n",
    "\n"
   ]
  },
  {
   "cell_type": "code",
   "execution_count": 74,
   "outputs": [],
   "source": [
    "import collections\n",
    "\n",
    "\n",
    "class DotFileGenerator:\n",
    "    def __init__(self, graph_name: typing.Optional[str] = None):\n",
    "        self.__nodes = dict()\n",
    "        self.__edges = collections.defaultdict(set)\n",
    "        self.__graph_name = \"TestGraph\" if graph_name is None else graph_name\n",
    "\n",
    "    def add_node(self, v_name: str, v_data: typing.Optional[str] = None):\n",
    "        if v_data is None:\n",
    "            self.__nodes[v_name] = v_name\n",
    "        else:\n",
    "            self.__nodes[v_name] = v_data\n",
    "\n",
    "    def add_edge(self, v1_name: str, v2_name: str):\n",
    "        self.__edges[v1_name].add(v2_name)\n",
    "\n",
    "    def to_graphviz_file(self):\n",
    "        res = f\"digraph {self.__graph_name}{{\\n\"\n",
    "        for v_name, v_data in self.__nodes.items():\n",
    "            if \"Scan\" in v_data:\n",
    "                res += f\"\\t{v_name}[label=\\\"{v_data}\\\"][shape=box][color=red][width=3];\\n\"\n",
    "            elif \"Join\" in v_data or 'Nested Loop' in v_data:\n",
    "                res += f\"\\t{v_name}[label=\\\"{v_data}\\\"][shape=box][color=blue][width=3];\\n\"\n",
    "            else:\n",
    "                res += f\"\\t{v_name}[label=\\\"{v_data}\\\"][shape=box][width=3];\\n\"\n",
    "        for v1_name, v2_names in self.__edges.items():\n",
    "            for v2_name in v2_names:\n",
    "                res += f\"\\t{v1_name} -> {v2_name}\\n\"\n",
    "        res += \"}\"\n",
    "        return res\n",
    "\n",
    "\n",
    "def get_plan_tree(plan_ob: dict):\n",
    "    assert \"Plan\" in plan_ob, \"Key Error: Plan\"\n",
    "    dot_file_generator = DotFileGenerator()\n",
    "    undefined_mark = \"undefined\"\n",
    "\n",
    "    def __get_name(level: int, node_type: str):\n",
    "        return f\"\"\"{node_type.replace(' ', '')}{level}\"\"\"\n",
    "\n",
    "    def __inner_dfs(node: dict, level=0):\n",
    "        node_type = node[\"Node Type\"]\n",
    "        startup_cost = node.get(\"Startup Cost\", undefined_mark)\n",
    "        total_cost = node.get(\"Total Cost\", undefined_mark)\n",
    "        plan_rows = node.get(\"Plan Rows\", undefined_mark)\n",
    "\n",
    "        dot_file_generator.add_node(\n",
    "            f\"\"\"{__get_name(level, node_type)}\"\"\",\n",
    "            f\"\"\"{node_type}\\\\nstart: {startup_cost}, tol: {total_cost}\\\\n row: {plan_rows}\"\"\"\n",
    "        )\n",
    "\n",
    "        for child in node.get(\"Plans\", []):\n",
    "            __inner_dfs(child, level + 1)\n",
    "            dot_file_generator.add_edge(f\"\"\"{__get_name(level, node_type)}\"\"\",\n",
    "                                        f\"\"\"{__get_name(level + 1, child['Node Type'])}\"\"\")\n",
    "\n",
    "    __inner_dfs(plan_ob[\"Plan\"])\n",
    "    return dot_file_generator\n",
    "\n",
    "\n",
    "def get_query_plan_detail(plan):\n",
    "    return {\n",
    "        'detail': plan,\n",
    "        'tree': get_plan_tree(plan).to_graphviz_file()\n",
    "    }"
   ],
   "metadata": {
    "collapsed": false,
    "ExecuteTime": {
     "end_time": "2023-05-23T12:57:48.342600247Z",
     "start_time": "2023-05-23T12:57:48.337809196Z"
    }
   }
  },
  {
   "cell_type": "code",
   "execution_count": 75,
   "outputs": [
    {
     "name": "stderr",
     "output_type": "stream",
     "text": [
      "/home/bing/Projects/PythonProjects/HyperQO/src/mcts.py:487: UserWarning: Using a target size (torch.Size([1])) that is different to the input size (torch.Size([1, 1])). This will likely lead to incorrect results due to broadcasting. Please ensure they have the same size.\n",
      "  loss_value = self.loss_function(input=v, target=target)\n"
     ]
    }
   ],
   "source": [
    "TEST_SQL = \"SELECT MIN(chn.name) AS voiced_char_name,\\n       MIN(n.name) AS voicing_actress_name,\\n       MIN(t.title) AS kung_fu_panda\\nFROM aka_name AS an,\\n     char_name AS chn,\\n     cast_info AS ci,\\n     company_name AS cn,\\n     info_type AS it,\\n     keyword AS k,\\n     movie_companies AS mc,\\n     movie_info AS mi,\\n     movie_keyword AS mk,\\n     name AS n,\\n     role_type AS rt,\\n     title AS t\\nWHERE ci.note IN ('(voice)',\\n                  '(voice: Japanese version)',\\n                  '(voice) (uncredited)',\\n                  '(voice: English version)')\\n  AND cn.country_code ='[us]'\\n  AND it.info = 'release dates'\\n  AND mi.info IS NOT NULL\\n  AND (mi.info LIKE 'Japan:%201%'\\n       OR mi.info LIKE 'USA:%201%')\\n  AND n.gender ='f'\\n  AND n.name LIKE '%An%'\\n  AND rt.role ='actress'\\n  AND t.id = mi.movie_id\\n  AND t.id = mc.movie_id\\n  AND t.id = ci.movie_id\\n  AND t.id = mk.movie_id\\n  AND mc.movie_id = ci.movie_id\\n  AND mc.movie_id = mi.movie_id\\n  AND mc.movie_id = mk.movie_id\\n  AND mi.movie_id = ci.movie_id\\n  AND mi.movie_id = mk.movie_id\\n  AND ci.movie_id = mk.movie_id\\n  AND cn.id = mc.company_id\\n  AND it.id = mi.info_type_id\\n  AND n.id = ci.person_id\\n  AND rt.id = ci.role_id\\n  AND n.id = an.person_id\\n  AND ci.person_id = an.person_id\\n  AND chn.id = ci.person_role_id\\n  AND k.id = mk.keyword_id\\n  AND t.title LIKE 'Kung Fu Panda%'\\n  AND cn.name = 'DreamWorks Home Entertainment'\\nAND k.keyword IN ('murder',\\n'marvel-comics',\\n'based-on-novel',\\n'soothsayer')\\nAND t.production_year > 2009;\"\n",
    "\n",
    "\n",
    "def get_all_query_plans(sql):\n",
    "    (pg_plan_time, pg_latency,\n",
    "     mcts_time, hinter_plan_time, mphe_time, hinter_latency,\n",
    "     actual_plans, actual_time,\n",
    "     chosen_leading_pairs) = DEFAULT_HINT_GENERATOR.optimize(sql)\n",
    "    res = list()\n",
    "    details = list()\n",
    "    for i, ((mean_t, v_t, v2_t), leading, leading_utility, plan_json) in enumerate(chosen_leading_pairs):\n",
    "        res.append([i + 1, leading, mean_t, leading_utility])\n",
    "        details.append(get_query_plan_detail(plan_json))\n",
    "    return res, details\n",
    "\n",
    "\n",
    "q = get_all_query_plans(TEST_SQL)"
   ],
   "metadata": {
    "collapsed": false,
    "ExecuteTime": {
     "end_time": "2023-05-23T12:57:50.591734396Z",
     "start_time": "2023-05-23T12:57:50.419867591Z"
    }
   }
  },
  {
   "cell_type": "code",
   "execution_count": 79,
   "outputs": [
    {
     "name": "stdout",
     "output_type": "stream",
     "text": [
      "digraph TestGraph{\n",
      "\tAggregate0[label=\"Aggregate\\nstart: 742.02, tol: 742.03\\n row: 1\"][shape=box][width=3];\n",
      "\tNestedLoop1[label=\"Nested Loop\\nstart: 4.09, tol: 742.01\\n row: 1\"][shape=box][color=blue][width=3];\n",
      "\tNestedLoop2[label=\"Nested Loop\\nstart: 3.93, tol: 741.84\\n row: 1\"][shape=box][color=blue][width=3];\n",
      "\tNestedLoop3[label=\"Nested Loop\\nstart: 3.5, tol: 741.32\\n row: 1\"][shape=box][color=blue][width=3];\n",
      "\tNestedLoop4[label=\"Nested Loop\\nstart: 3.21, tol: 740.99\\n row: 1\"][shape=box][color=blue][width=3];\n",
      "\tNestedLoop5[label=\"Nested Loop\\nstart: 3.21, tol: 738.57\\n row: 1\"][shape=box][color=blue][width=3];\n",
      "\tNestedLoop6[label=\"Nested Loop\\nstart: 2.77, tol: 737.15\\n row: 1\"][shape=box][color=blue][width=3];\n",
      "\tNestedLoop7[label=\"Nested Loop\\nstart: 2.33, tol: 736.66\\n row: 1\"][shape=box][color=blue][width=3];\n",
      "\tNestedLoop8[label=\"Nested Loop\\nstart: 2.03, tol: 736.29\\n row: 1\"][shape=box][color=blue][width=3];\n",
      "\tNestedLoop9[label=\"Nested Loop\\nstart: 1.59, tol: 734.88\\n row: 1\"][shape=box][color=blue][width=3];\n",
      "\tNestedLoop10[label=\"Nested Loop\\nstart: 1.16, tol: 732.79\\n row: 1\"][shape=box][color=blue][width=3];\n",
      "\tNestedLoop11[label=\"Nested Loop\\nstart: 0.73, tol: 726.29\\n row: 14\"][shape=box][color=blue][width=3];\n",
      "\tIndexScan12[label=\"Index Scan\\nstart: 0.43, tol: 715.42\\n row: 255\"][shape=box][color=red][width=3];\n",
      "\tIndexScan11[label=\"Index Scan\\nstart: 0.43, tol: 0.46\\n row: 1\"][shape=box][color=red][width=3];\n",
      "\tIndexScan10[label=\"Index Scan\\nstart: 0.43, tol: 1.41\\n row: 55\"][shape=box][color=red][width=3];\n",
      "\tIndexScan9[label=\"Index Scan\\nstart: 0.44, tol: 1.4\\n row: 1\"][shape=box][color=red][width=3];\n",
      "\tIndexOnlyScan8[label=\"Index Only Scan\\nstart: 0.3, tol: 0.35\\n row: 2\"][shape=box][color=red][width=3];\n",
      "\tIndexScan7[label=\"Index Scan\\nstart: 0.43, tol: 0.49\\n row: 1\"][shape=box][color=red][width=3];\n",
      "\tIndexScan6[label=\"Index Scan\\nstart: 0.44, tol: 1.39\\n row: 2\"][shape=box][color=red][width=3];\n",
      "\tSeqScan5[label=\"Seq Scan\\nstart: 0.0, tol: 2.41\\n row: 1\"][shape=box][color=red][width=3];\n",
      "\tIndexScan4[label=\"Index Scan\\nstart: 0.29, tol: 0.32\\n row: 1\"][shape=box][color=red][width=3];\n",
      "\tIndexScan3[label=\"Index Scan\\nstart: 0.43, tol: 0.52\\n row: 1\"][shape=box][color=red][width=3];\n",
      "\tIndexScan2[label=\"Index Scan\\nstart: 0.15, tol: 0.18\\n row: 1\"][shape=box][color=red][width=3];\n",
      "\tNestedLoop11 -> IndexScan12\n",
      "\tNestedLoop10 -> IndexScan11\n",
      "\tNestedLoop10 -> NestedLoop11\n",
      "\tNestedLoop9 -> NestedLoop10\n",
      "\tNestedLoop9 -> IndexScan10\n",
      "\tNestedLoop8 -> NestedLoop9\n",
      "\tNestedLoop8 -> IndexScan9\n",
      "\tNestedLoop7 -> IndexOnlyScan8\n",
      "\tNestedLoop7 -> NestedLoop8\n",
      "\tNestedLoop6 -> NestedLoop7\n",
      "\tNestedLoop6 -> IndexScan7\n",
      "\tNestedLoop5 -> IndexScan6\n",
      "\tNestedLoop5 -> NestedLoop6\n",
      "\tNestedLoop4 -> SeqScan5\n",
      "\tNestedLoop4 -> NestedLoop5\n",
      "\tNestedLoop3 -> NestedLoop4\n",
      "\tNestedLoop3 -> IndexScan4\n",
      "\tNestedLoop2 -> IndexScan3\n",
      "\tNestedLoop2 -> NestedLoop3\n",
      "\tNestedLoop1 -> NestedLoop2\n",
      "\tNestedLoop1 -> IndexScan2\n",
      "\tAggregate0 -> NestedLoop1\n",
      "}\n"
     ]
    }
   ],
   "source": [
    "print(q[1][3]['tree'])"
   ],
   "metadata": {
    "collapsed": false,
    "ExecuteTime": {
     "end_time": "2023-05-23T12:58:33.878987273Z",
     "start_time": "2023-05-23T12:58:33.877084526Z"
    }
   }
  },
  {
   "cell_type": "code",
   "execution_count": 80,
   "outputs": [
    {
     "name": "stdout",
     "output_type": "stream",
     "text": [
      "digraph TestGraph{\n",
      "\ta[label=\"A\"][shape=box][width=3];\n",
      "\tb[label=\"B\"][shape=box][width=3];\n",
      "\tc[label=\"C\"][shape=box][width=3];\n",
      "\td[label=\"D\"][shape=box][width=3];\n",
      "\ta -> b\n",
      "\tb -> d\n",
      "\tb -> c\n",
      "}\n"
     ]
    }
   ],
   "source": [
    "\n",
    "a = DotFileGenerator()\n",
    "a.add_node(\"a\", \"A\")\n",
    "a.add_node(\"b\", \"B\")\n",
    "a.add_node(\"c\", \"C\")\n",
    "a.add_node(\"d\", \"D\")\n",
    "a.add_edge(\"a\", \"b\")\n",
    "a.add_edge(\"b\", \"c\")\n",
    "a.add_edge(\"b\", \"d\")\n",
    "\n",
    "print(a.to_graphviz_file())"
   ],
   "metadata": {
    "collapsed": false,
    "ExecuteTime": {
     "end_time": "2023-05-23T13:12:12.022465820Z",
     "start_time": "2023-05-23T13:12:11.968203803Z"
    }
   }
  },
  {
   "cell_type": "code",
   "execution_count": 83,
   "outputs": [],
   "source": [
    "import psqlparse\n",
    "\n",
    "a = psqlparse.parse_dict(TEST_SQL)[0]"
   ],
   "metadata": {
    "collapsed": false,
    "ExecuteTime": {
     "end_time": "2023-05-23T13:12:49.129622845Z",
     "start_time": "2023-05-23T13:12:49.127377087Z"
    }
   }
  },
  {
   "cell_type": "code",
   "execution_count": 88,
   "outputs": [
    {
     "name": "stdout",
     "output_type": "stream",
     "text": [
      "{'涉及到的表': ['aka_name AS an', 'char_name AS chn', 'cast_info AS ci', 'company_name AS cn', 'info_type AS it', 'keyword AS k', 'movie_companies AS mc', 'movie_info AS mi', 'movie_keyword AS mk', 'name AS n', 'role_type AS rt', 'title AS t'], '涉及到的谓词': [\"ci.note IN ('(voice)', '(voice: Japanese version)', '(voice) (uncredited)', '(voice: English version)')\", \"cn.country_code = '[us]'\", \"it.info = 'release dates'\", 'mi.info IS NOT NULL', \"( mi.info like 'Japan:%201%' OR mi.info like 'USA:%201%')\", \"n.gender = 'f'\", \"n.name like '%An%'\", \"rt.role = 'actress'\", 't.id = mi.movie_id', 't.id = mc.movie_id', 't.id = ci.movie_id', 't.id = mk.movie_id', 'mc.movie_id = ci.movie_id', 'mc.movie_id = mi.movie_id', 'mc.movie_id = mk.movie_id', 'mi.movie_id = ci.movie_id', 'mi.movie_id = mk.movie_id', 'ci.movie_id = mk.movie_id', 'cn.id = mc.company_id', 'it.id = mi.info_type_id', 'n.id = ci.person_id', 'rt.id = ci.role_id', 'n.id = an.person_id', 'ci.person_id = an.person_id', 'chn.id = ci.person_role_id', 'k.id = mk.keyword_id', \"t.title like 'Kung Fu Panda%'\", \"cn.name = 'DreamWorks Home Entertainment'\", \"k.keyword IN ('murder', 'marvel-comics', 'based-on-novel', 'soothsayer')\", 't.production_year > 2009']}\n"
     ]
    }
   ],
   "source": [
    "from src.encoding import RangeVar, WhereCondition\n",
    "\n",
    "\n",
    "def get_sql_info(sql: str):\n",
    "    sql_parse_result = psqlparse.parse_dict(sql)[0][\"SelectStmt\"]\n",
    "    # # NOTE: BING 2023/5/18 下午9:55 获得FROM子句中的表名, 保存在table_list中\n",
    "    # # ... 测试用例中的表数目必须大于等于2\n",
    "    table_list = [str(RangeVar(x[\"RangeVar\"])) for x in sql_parse_result[\"fromClause\"]]\n",
    "\n",
    "    # # NOTE: BING 2023/5/18 下午10:02 获得WHERE子句中的谓词, 保存在comparison_list中\n",
    "    comparison_list = [str(WhereCondition(x)) for x in sql_parse_result[\"whereClause\"][\"BoolExpr\"][\"args\"]]\n",
    "\n",
    "    # # 获取SQL语\n",
    "    return {\n",
    "        '涉及到的表': table_list,\n",
    "        '涉及到的谓词': comparison_list\n",
    "    }\n",
    "\n",
    "\n",
    "print(get_sql_info(TEST_SQL))"
   ],
   "metadata": {
    "collapsed": false,
    "ExecuteTime": {
     "end_time": "2023-05-23T13:19:21.191804693Z",
     "start_time": "2023-05-23T13:19:21.189457381Z"
    }
   }
  },
  {
   "cell_type": "code",
   "execution_count": 85,
   "outputs": [
    {
     "name": "stdout",
     "output_type": "stream",
     "text": [
      "aka_name an\n",
      "char_name chn\n",
      "cast_info ci\n",
      "company_name cn\n",
      "info_type it\n",
      "keyword k\n",
      "movie_companies mc\n",
      "movie_info mi\n",
      "movie_keyword mk\n",
      "name n\n",
      "role_type rt\n",
      "title t\n"
     ]
    }
   ],
   "source": [
    "for range_var in a[\"SelectStmt\"][\"fromClause\"]:\n",
    "    print()"
   ],
   "metadata": {
    "collapsed": false,
    "ExecuteTime": {
     "end_time": "2023-05-23T13:16:07.149440058Z",
     "start_time": "2023-05-23T13:16:07.144426058Z"
    }
   }
  }
 ],
 "metadata": {
  "kernelspec": {
   "display_name": "Python 3",
   "language": "python",
   "name": "python3"
  },
  "language_info": {
   "codemirror_mode": {
    "name": "ipython",
    "version": 2
   },
   "file_extension": ".py",
   "mimetype": "text/x-python",
   "name": "python",
   "nbconvert_exporter": "python",
   "pygments_lexer": "ipython2",
   "version": "2.7.6"
  }
 },
 "nbformat": 4,
 "nbformat_minor": 0
}
