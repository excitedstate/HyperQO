{
 "cells": [
  {
   "cell_type": "code",
   "execution_count": 9,
   "metadata": {
    "collapsed": true,
    "ExecuteTime": {
     "end_time": "2023-05-17T13:37:22.589510099Z",
     "start_time": "2023-05-17T13:37:22.588531461Z"
    }
   },
   "outputs": [],
   "source": [
    "from psqlparse import parse_dict, parse\n",
    "\n",
    "a = parse_dict('select count(*) from test.test as t where c>1 and b > 2 group by c order by a limit 10')[0]\n"
   ]
  },
  {
   "cell_type": "code",
   "execution_count": 10,
   "outputs": [
    {
     "name": "stdout",
     "output_type": "stream",
     "text": [
      "Collecting sqlparse\r\n",
      "  Downloading sqlparse-0.4.4-py3-none-any.whl (41 kB)\r\n",
      "\u001B[2K     \u001B[90m━━━━━━━━━━━━━━━━━━━━━━━━━━━━━━━━━━━━━━━\u001B[0m \u001B[32m41.2/41.2 kB\u001B[0m \u001B[31m264.5 kB/s\u001B[0m eta \u001B[36m0:00:00\u001B[0m00:01\u001B[0m00:01\u001B[0m\r\n",
      "\u001B[?25hInstalling collected packages: sqlparse\r\n",
      "Successfully installed sqlparse-0.4.4\r\n"
     ]
    }
   ],
   "source": [
    "!pip install sqlparse"
   ],
   "metadata": {
    "collapsed": false,
    "ExecuteTime": {
     "end_time": "2023-05-17T13:41:43.106103656Z",
     "start_time": "2023-05-17T13:41:39.918439505Z"
    }
   }
  },
  {
   "cell_type": "code",
   "execution_count": 8,
   "outputs": [
    {
     "data": {
      "text/plain": "[<DML 'Select' at 0x7FDA6C34EF80>,\n <Whitespace ' ' at 0x7FDA6C34F6A0>,\n <Name 'a' at 0x7FDA6C34F820>,\n <Punctuation ',' at 0x7FDA6C34F8E0>,\n <Whitespace ' ' at 0x7FDA6C34F880>,\n <Name 'col_2' at 0x7FDA6C34F940>,\n <Whitespace ' ' at 0x7FDA6C34FA00>,\n <Keyword 'as' at 0x7FDA6C34FA60>,\n <Whitespace ' ' at 0x7FDA6C34FAC0>,\n <Name 'b' at 0x7FDA6C34FB20>,\n <Whitespace ' ' at 0x7FDA6C34FB80>,\n <Keyword 'from' at 0x7FDA6C34FBE0>,\n <Whitespace ' ' at 0x7FDA6C34FC40>,\n <Name 'Table_A' at 0x7FDA6C34FCA0>,\n <Punctuation ';' at 0x7FDA6C34FD00>]"
     },
     "execution_count": 8,
     "metadata": {},
     "output_type": "execute_result"
    }
   ],
   "source": [
    "import sqlparse\n",
    "query = 'Select a, col_2 as b from Table_A;'\n",
    "list(sqlparse.parse(query)[0].flatten())"
   ],
   "metadata": {
    "collapsed": false,
    "ExecuteTime": {
     "end_time": "2023-05-17T13:43:05.233124334Z",
     "start_time": "2023-05-17T13:43:05.223416457Z"
    }
   }
  }
 ],
 "metadata": {
  "kernelspec": {
   "display_name": "Python 3",
   "language": "python",
   "name": "python3"
  },
  "language_info": {
   "codemirror_mode": {
    "name": "ipython",
    "version": 2
   },
   "file_extension": ".py",
   "mimetype": "text/x-python",
   "name": "python",
   "nbconvert_exporter": "python",
   "pygments_lexer": "ipython2",
   "version": "2.7.6"
  }
 },
 "nbformat": 4,
 "nbformat_minor": 0
}
