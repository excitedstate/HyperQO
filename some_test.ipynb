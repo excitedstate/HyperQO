{
 "cells": [
  {
   "cell_type": "code",
   "execution_count": 9,
   "metadata": {
    "collapsed": true,
    "ExecuteTime": {
     "end_time": "2023-05-17T13:37:22.589510099Z",
     "start_time": "2023-05-17T13:37:22.588531461Z"
    }
   },
   "outputs": [],
   "source": [
    "from psqlparse import parse_dict, parse\n",
    "\n",
    "a = parse_dict('select count(*) from test.test as t where c>1 and b > 2 group by c order by a limit 10')[0]\n"
   ]
  },
  {
   "cell_type": "code",
   "execution_count": 10,
   "outputs": [
    {
     "name": "stdout",
     "output_type": "stream",
     "text": [
      "Collecting sqlparse\r\n",
      "  Downloading sqlparse-0.4.4-py3-none-any.whl (41 kB)\r\n",
      "\u001B[2K     \u001B[90m━━━━━━━━━━━━━━━━━━━━━━━━━━━━━━━━━━━━━━━\u001B[0m \u001B[32m41.2/41.2 kB\u001B[0m \u001B[31m264.5 kB/s\u001B[0m eta \u001B[36m0:00:00\u001B[0m00:01\u001B[0m00:01\u001B[0m\r\n",
      "\u001B[?25hInstalling collected packages: sqlparse\r\n",
      "Successfully installed sqlparse-0.4.4\r\n"
     ]
    }
   ],
   "source": [
    "!pip install sqlparse"
   ],
   "metadata": {
    "collapsed": false,
    "ExecuteTime": {
     "end_time": "2023-05-17T13:41:43.106103656Z",
     "start_time": "2023-05-17T13:41:39.918439505Z"
    }
   }
  },
  {
   "cell_type": "code",
   "execution_count": 8,
   "outputs": [
    {
     "data": {
      "text/plain": "[<DML 'Select' at 0x7FDA6C34EF80>,\n <Whitespace ' ' at 0x7FDA6C34F6A0>,\n <Name 'a' at 0x7FDA6C34F820>,\n <Punctuation ',' at 0x7FDA6C34F8E0>,\n <Whitespace ' ' at 0x7FDA6C34F880>,\n <Name 'col_2' at 0x7FDA6C34F940>,\n <Whitespace ' ' at 0x7FDA6C34FA00>,\n <Keyword 'as' at 0x7FDA6C34FA60>,\n <Whitespace ' ' at 0x7FDA6C34FAC0>,\n <Name 'b' at 0x7FDA6C34FB20>,\n <Whitespace ' ' at 0x7FDA6C34FB80>,\n <Keyword 'from' at 0x7FDA6C34FBE0>,\n <Whitespace ' ' at 0x7FDA6C34FC40>,\n <Name 'Table_A' at 0x7FDA6C34FCA0>,\n <Punctuation ';' at 0x7FDA6C34FD00>]"
     },
     "execution_count": 8,
     "metadata": {},
     "output_type": "execute_result"
    }
   ],
   "source": [
    "import sqlparse\n",
    "\n",
    "query = 'Select a, col_2 as b from Table_A;'\n",
    "list(sqlparse.parse(query)[0].flatten())"
   ],
   "metadata": {
    "collapsed": false,
    "ExecuteTime": {
     "end_time": "2023-05-17T13:43:05.233124334Z",
     "start_time": "2023-05-17T13:43:05.223416457Z"
    }
   }
  },
  {
   "cell_type": "code",
   "execution_count": 2,
   "outputs": [],
   "source": [
    "TEST_SQL_LIST = [[\n",
    "    \"SELECT MIN(chn.name) AS voiced_char_name,\\n       MIN(n.name) AS voicing_actress_name,\\n       MIN(t.title) AS kung_fu_panda\\nFROM aka_name AS an,\\n     char_name AS chn,\\n     cast_info AS ci,\\n     company_name AS cn,\\n     info_type AS it,\\n     keyword AS k,\\n     movie_companies AS mc,\\n     movie_info AS mi,\\n     movie_keyword AS mk,\\n     name AS n,\\n     role_type AS rt,\\n     title AS t\\nWHERE ci.note IN ('(voice)',\\n                  '(voice: Japanese version)',\\n                  '(voice) (uncredited)',\\n                  '(voice: English version)')\\n  AND cn.country_code ='[us]'\\n  AND it.info = 'release dates'\\n  AND mi.info IS NOT NULL\\n  AND (mi.info LIKE 'Japan:%201%'\\n       OR mi.info LIKE 'USA:%201%')\\n  AND n.gender ='f'\\n  AND n.name LIKE '%An%'\\n  AND rt.role ='actress'\\n  AND t.id = mi.movie_id\\n  AND t.id = mc.movie_id\\n  AND t.id = ci.movie_id\\n  AND t.id = mk.movie_id\\n  AND mc.movie_id = ci.movie_id\\n  AND mc.movie_id = mi.movie_id\\n  AND mc.movie_id = mk.movie_id\\n  AND mi.movie_id = ci.movie_id\\n  AND mi.movie_id = mk.movie_id\\n  AND ci.movie_id = mk.movie_id\\n  AND cn.id = mc.company_id\\n  AND it.id = mi.info_type_id\\n  AND n.id = ci.person_id\\n  AND rt.id = ci.role_id\\n  AND n.id = an.person_id\\n  AND ci.person_id = an.person_id\\n  AND chn.id = ci.person_role_id\\n  AND k.id = mk.keyword_id\\n  AND t.title LIKE 'Kung Fu Panda%'\\n  AND cn.name = 'DreamWorks Home Entertainment'\\nAND k.keyword IN ('murder',\\n'marvel-comics',\\n'based-on-novel',\\n'soothsayer')\\nAND t.production_year > 2009;\",\n",
    "    '24b', [16.155, False]], [\n",
    "    \"SELECT MIN(chn.name) AS voiced_char_name,\\n       MIN(n.name) AS voicing_actress_name,\\n       MIN(t.title) AS kung_fu_panda\\nFROM aka_name AS an,\\n     char_name AS chn,\\n     cast_info AS ci,\\n     company_name AS cn,\\n     info_type AS it,\\n     keyword AS k,\\n     movie_companies AS mc,\\n     movie_info AS mi,\\n     movie_keyword AS mk,\\n     name AS n,\\n     role_type AS rt,\\n     title AS t\\nWHERE ci.note IN ('(voice)',\\n                  '(voice: Japanese version)',\\n                  '(voice) (uncredited)',\\n                  '(voice: English version)')\\n  AND cn.country_code ='[us]'\\n  AND it.info = 'release dates'\\n  AND mi.info IS NOT NULL\\n  AND (mi.info LIKE 'Japan:%201%'\\n       OR mi.info LIKE 'USA:%201%')\\n  AND n.gender ='f'\\n  AND n.name LIKE '%An%'\\n  AND rt.role ='actress'\\n  AND t.id = mi.movie_id\\n  AND t.id = mc.movie_id\\n  AND t.id = ci.movie_id\\n  AND t.id = mk.movie_id\\n  AND mc.movie_id = ci.movie_id\\n  AND mc.movie_id = mi.movie_id\\n  AND mc.movie_id = mk.movie_id\\n  AND mi.movie_id = ci.movie_id\\n  AND mi.movie_id = mk.movie_id\\n  AND ci.movie_id = mk.movie_id\\n  AND cn.id = mc.company_id\\n  AND it.id = mi.info_type_id\\n  AND n.id = ci.person_id\\n  AND rt.id = ci.role_id\\n  AND n.id = an.person_id\\n  AND ci.person_id = an.person_id\\n  AND chn.id = ci.person_role_id\\n  AND k.id = mk.keyword_id\\n  AND t.title LIKE 'Kung Fu Panda%'\\n  AND cn.name = 'DreamWorks Animation'\\nAND k.keyword IN ('murder',\\n'female-nudity',\\n'fight',\\n'tough-guy')\\nAND t.production_year > 2008;\",\n",
    "    '24b', [13.339, False]], [\n",
    "    \"SELECT MIN(chn.name) AS voiced_char_name,\\n       MIN(n.name) AS voicing_actress_name,\\n       MIN(t.title) AS kung_fu_panda\\nFROM aka_name AS an,\\n     char_name AS chn,\\n     cast_info AS ci,\\n     company_name AS cn,\\n     info_type AS it,\\n     keyword AS k,\\n     movie_companies AS mc,\\n     movie_info AS mi,\\n     movie_keyword AS mk,\\n     name AS n,\\n     role_type AS rt,\\n     title AS t\\nWHERE ci.note IN ('(voice)',\\n                  '(voice: Japanese version)',\\n                  '(voice) (uncredited)',\\n                  '(voice: English version)')\\n  AND cn.country_code ='[us]'\\n  AND it.info = 'release dates'\\n  AND mi.info IS NOT NULL\\n  AND (mi.info LIKE 'Japan:%201%'\\n       OR mi.info LIKE 'USA:%201%')\\n  AND n.gender ='f'\\n  AND n.name LIKE '%An%'\\n  AND rt.role ='actress'\\n  AND t.id = mi.movie_id\\n  AND t.id = mc.movie_id\\n  AND t.id = ci.movie_id\\n  AND t.id = mk.movie_id\\n  AND mc.movie_id = ci.movie_id\\n  AND mc.movie_id = mi.movie_id\\n  AND mc.movie_id = mk.movie_id\\n  AND mi.movie_id = ci.movie_id\\n  AND mi.movie_id = mk.movie_id\\n  AND ci.movie_id = mk.movie_id\\n  AND cn.id = mc.company_id\\n  AND it.id = mi.info_type_id\\n  AND n.id = ci.person_id\\n  AND rt.id = ci.role_id\\n  AND n.id = an.person_id\\n  AND ci.person_id = an.person_id\\n  AND chn.id = ci.person_role_id\\n  AND k.id = mk.keyword_id\\n  AND t.title LIKE 'Kung Fu Panda%'\\n  AND cn.name = 'DreamWorks Animation'\\nAND k.keyword IN ('superhero',\\n'violence',\\n'fight',\\n'preparation')\\nAND t.production_year > 2008;\",\n",
    "    '24b', [13.012, False]], [\n",
    "    \"SELECT MIN(chn.name) AS voiced_char_name,\\n       MIN(n.name) AS voicing_actress_name,\\n       MIN(t.title) AS kung_fu_panda\\nFROM aka_name AS an,\\n     char_name AS chn,\\n     cast_info AS ci,\\n     company_name AS cn,\\n     info_type AS it,\\n     keyword AS k,\\n     movie_companies AS mc,\\n     movie_info AS mi,\\n     movie_keyword AS mk,\\n     name AS n,\\n     role_type AS rt,\\n     title AS t\\nWHERE ci.note IN ('(voice)',\\n                  '(voice: Japanese version)',\\n                  '(voice) (uncredited)',\\n                  '(voice: English version)')\\n  AND cn.country_code ='[us]'\\n  AND it.info = 'release dates'\\n  AND mi.info IS NOT NULL\\n  AND (mi.info LIKE 'Japan:%201%'\\n       OR mi.info LIKE 'USA:%201%')\\n  AND n.gender ='f'\\n  AND n.name LIKE '%An%'\\n  AND rt.role ='actress'\\n  AND t.id = mi.movie_id\\n  AND t.id = mc.movie_id\\n  AND t.id = ci.movie_id\\n  AND t.id = mk.movie_id\\n  AND mc.movie_id = ci.movie_id\\n  AND mc.movie_id = mi.movie_id\\n  AND mc.movie_id = mk.movie_id\\n  AND mi.movie_id = ci.movie_id\\n  AND mi.movie_id = mk.movie_id\\n  AND ci.movie_id = mk.movie_id\\n  AND cn.id = mc.company_id\\n  AND it.id = mi.info_type_id\\n  AND n.id = ci.person_id\\n  AND rt.id = ci.role_id\\n  AND n.id = an.person_id\\n  AND ci.person_id = an.person_id\\n  AND chn.id = ci.person_role_id\\n  AND k.id = mk.keyword_id\\n  AND t.title LIKE 'Kung Fu Panda%'\\n  AND cn.name = 'NBC Universal Television'\\nAND k.keyword IN ('magnet',\\n'female-nudity',\\n'superhero',\\n'tough-girl')\\nAND t.production_year > 2008;\",\n",
    "    '24b', [14.863, False]], [\n",
    "    \"SELECT MIN(chn.name) AS voiced_char_name,\\n       MIN(n.name) AS voicing_actress_name,\\n       MIN(t.title) AS kung_fu_panda\\nFROM aka_name AS an,\\n     char_name AS chn,\\n     cast_info AS ci,\\n     company_name AS cn,\\n     info_type AS it,\\n     keyword AS k,\\n     movie_companies AS mc,\\n     movie_info AS mi,\\n     movie_keyword AS mk,\\n     name AS n,\\n     role_type AS rt,\\n     title AS t\\nWHERE ci.note IN ('(voice)',\\n                  '(voice: Japanese version)',\\n                  '(voice) (uncredited)',\\n                  '(voice: English version)')\\n  AND cn.country_code ='[us]'\\n  AND it.info = 'release dates'\\n  AND mi.info IS NOT NULL\\n  AND (mi.info LIKE 'Japan:%201%'\\n       OR mi.info LIKE 'USA:%201%')\\n  AND n.gender ='f'\\n  AND n.name LIKE '%An%'\\n  AND rt.role ='actress'\\n  AND t.id = mi.movie_id\\n  AND t.id = mc.movie_id\\n  AND t.id = ci.movie_id\\n  AND t.id = mk.movie_id\\n  AND mc.movie_id = ci.movie_id\\n  AND mc.movie_id = mi.movie_id\\n  AND mc.movie_id = mk.movie_id\\n  AND mi.movie_id = ci.movie_id\\n  AND mi.movie_id = mk.movie_id\\n  AND ci.movie_id = mk.movie_id\\n  AND cn.id = mc.company_id\\n  AND it.id = mi.info_type_id\\n  AND n.id = ci.person_id\\n  AND rt.id = ci.role_id\\n  AND n.id = an.person_id\\n  AND ci.person_id = an.person_id\\n  AND chn.id = ci.person_role_id\\n  AND k.id = mk.keyword_id\\n  AND t.title LIKE 'Kung Fu Panda%'\\n  AND cn.name = 'DreamWorks Home Entertainment'\\nAND k.keyword IN ('tv-special',\\n'revenge',\\n'superhero',\\n'kung-fu')\\nAND t.production_year > 2009;\",\n",
    "    '24b', [16.154, False]], [\n",
    "    \"SELECT MIN(chn.name) AS voiced_char_name,\\n       MIN(n.name) AS voicing_actress_name,\\n       MIN(t.title) AS kung_fu_panda\\nFROM aka_name AS an,\\n     char_name AS chn,\\n     cast_info AS ci,\\n     company_name AS cn,\\n     info_type AS it,\\n     keyword AS k,\\n     movie_companies AS mc,\\n     movie_info AS mi,\\n     movie_keyword AS mk,\\n     name AS n,\\n     role_type AS rt,\\n     title AS t\\nWHERE ci.note IN ('(voice)',\\n                  '(voice: Japanese version)',\\n                  '(voice) (uncredited)',\\n                  '(voice: English version)')\\n  AND cn.country_code ='[us]'\\n  AND it.info = 'release dates'\\n  AND mi.info IS NOT NULL\\n  AND (mi.info LIKE 'Japan:%201%'\\n       OR mi.info LIKE 'USA:%201%')\\n  AND n.gender ='f'\\n  AND n.name LIKE '%An%'\\n  AND rt.role ='actress'\\n  AND t.id = mi.movie_id\\n  AND t.id = mc.movie_id\\n  AND t.id = ci.movie_id\\n  AND t.id = mk.movie_id\\n  AND mc.movie_id = ci.movie_id\\n  AND mc.movie_id = mi.movie_id\\n  AND mc.movie_id = mk.movie_id\\n  AND mi.movie_id = ci.movie_id\\n  AND mi.movie_id = mk.movie_id\\n  AND ci.movie_id = mk.movie_id\\n  AND cn.id = mc.company_id\\n  AND it.id = mi.info_type_id\\n  AND n.id = ci.person_id\\n  AND rt.id = ci.role_id\\n  AND n.id = an.person_id\\n  AND ci.person_id = an.person_id\\n  AND chn.id = ci.person_role_id\\n  AND k.id = mk.keyword_id\\n  AND t.title LIKE 'Kung Fu Panda%'\\n  AND cn.name = 'DreamWorks Home Entertainment'\\nAND k.keyword IN ('superhero',\\n'marvel-comics',\\n'marvel-comics',\\n'abandoned-child')\\nAND t.production_year > 2009;\",\n",
    "    '24b', [17.976, False]], [\n",
    "    \"SELECT MIN(chn.name) AS voiced_char_name,\\n       MIN(n.name) AS voicing_actress_name,\\n       MIN(t.title) AS kung_fu_panda\\nFROM aka_name AS an,\\n     char_name AS chn,\\n     cast_info AS ci,\\n     company_name AS cn,\\n     info_type AS it,\\n     keyword AS k,\\n     movie_companies AS mc,\\n     movie_info AS mi,\\n     movie_keyword AS mk,\\n     name AS n,\\n     role_type AS rt,\\n     title AS t\\nWHERE ci.note IN ('(voice)',\\n                  '(voice: Japanese version)',\\n                  '(voice) (uncredited)',\\n                  '(voice: English version)')\\n  AND cn.country_code ='[us]'\\n  AND it.info = 'release dates'\\n  AND mi.info IS NOT NULL\\n  AND (mi.info LIKE 'Japan:%201%'\\n       OR mi.info LIKE 'USA:%201%')\\n  AND n.gender ='f'\\n  AND n.name LIKE '%An%'\\n  AND rt.role ='actress'\\n  AND t.id = mi.movie_id\\n  AND t.id = mc.movie_id\\n  AND t.id = ci.movie_id\\n  AND t.id = mk.movie_id\\n  AND mc.movie_id = ci.movie_id\\n  AND mc.movie_id = mi.movie_id\\n  AND mc.movie_id = mk.movie_id\\n  AND mi.movie_id = ci.movie_id\\n  AND mi.movie_id = mk.movie_id\\n  AND ci.movie_id = mk.movie_id\\n  AND cn.id = mc.company_id\\n  AND it.id = mi.info_type_id\\n  AND n.id = ci.person_id\\n  AND rt.id = ci.role_id\\n  AND n.id = an.person_id\\n  AND ci.person_id = an.person_id\\n  AND chn.id = ci.person_role_id\\n  AND k.id = mk.keyword_id\\n  AND t.title LIKE 'Kung Fu Panda%'\\n  AND cn.name = 'DreamWorks Home Entertainment'\\nAND k.keyword IN ('web',\\n'marvel-comics',\\n'tv-special',\\n'escape-from-prison')\\nAND t.production_year > 2009;\",\n",
    "    '24b', [17.062, False]], [\n",
    "    \"SELECT MIN(chn.name) AS voiced_char_name,\\n       MIN(n.name) AS voicing_actress_name,\\n       MIN(t.title) AS kung_fu_panda\\nFROM aka_name AS an,\\n     char_name AS chn,\\n     cast_info AS ci,\\n     company_name AS cn,\\n     info_type AS it,\\n     keyword AS k,\\n     movie_companies AS mc,\\n     movie_info AS mi,\\n     movie_keyword AS mk,\\n     name AS n,\\n     role_type AS rt,\\n     title AS t\\nWHERE ci.note IN ('(voice)',\\n                  '(voice: Japanese version)',\\n                  '(voice) (uncredited)',\\n                  '(voice: English version)')\\n  AND cn.country_code ='[us]'\\n  AND it.info = 'release dates'\\n  AND mi.info IS NOT NULL\\n  AND (mi.info LIKE 'Japan:%201%'\\n       OR mi.info LIKE 'USA:%201%')\\n  AND n.gender ='f'\\n  AND n.name LIKE '%An%'\\n  AND rt.role ='actress'\\n  AND t.id = mi.movie_id\\n  AND t.id = mc.movie_id\\n  AND t.id = ci.movie_id\\n  AND t.id = mk.movie_id\\n  AND mc.movie_id = ci.movie_id\\n  AND mc.movie_id = mi.movie_id\\n  AND mc.movie_id = mk.movie_id\\n  AND mi.movie_id = ci.movie_id\\n  AND mi.movie_id = mk.movie_id\\n  AND ci.movie_id = mk.movie_id\\n  AND cn.id = mc.company_id\\n  AND it.id = mi.info_type_id\\n  AND n.id = ci.person_id\\n  AND rt.id = ci.role_id\\n  AND n.id = an.person_id\\n  AND ci.person_id = an.person_id\\n  AND chn.id = ci.person_role_id\\n  AND k.id = mk.keyword_id\\n  AND t.title LIKE 'Kung Fu Panda%'\\n  AND cn.name = 'DreamWorks Animation'\\nAND k.keyword IN ('marvel-comics',\\n'fight',\\n'martial-arts',\\n'martial-arts')\\nAND t.production_year > 2009;\",\n",
    "    '24b', [15.769, False]], [\n",
    "    \"SELECT MIN(chn.name) AS voiced_char_name,\\n       MIN(n.name) AS voicing_actress_name,\\n       MIN(t.title) AS kung_fu_panda\\nFROM aka_name AS an,\\n     char_name AS chn,\\n     cast_info AS ci,\\n     company_name AS cn,\\n     info_type AS it,\\n     keyword AS k,\\n     movie_companies AS mc,\\n     movie_info AS mi,\\n     movie_keyword AS mk,\\n     name AS n,\\n     role_type AS rt,\\n     title AS t\\nWHERE ci.note IN ('(voice)',\\n                  '(voice: Japanese version)',\\n                  '(voice) (uncredited)',\\n                  '(voice: English version)')\\n  AND cn.country_code ='[us]'\\n  AND it.info = 'release dates'\\n  AND mi.info IS NOT NULL\\n  AND (mi.info LIKE 'Japan:%201%'\\n       OR mi.info LIKE 'USA:%201%')\\n  AND n.gender ='f'\\n  AND n.name LIKE '%An%'\\n  AND rt.role ='actress'\\n  AND t.id = mi.movie_id\\n  AND t.id = mc.movie_id\\n  AND t.id = ci.movie_id\\n  AND t.id = mk.movie_id\\n  AND mc.movie_id = ci.movie_id\\n  AND mc.movie_id = mi.movie_id\\n  AND mc.movie_id = mk.movie_id\\n  AND mi.movie_id = ci.movie_id\\n  AND mi.movie_id = mk.movie_id\\n  AND ci.movie_id = mk.movie_id\\n  AND cn.id = mc.company_id\\n  AND it.id = mi.info_type_id\\n  AND n.id = ci.person_id\\n  AND rt.id = ci.role_id\\n  AND n.id = an.person_id\\n  AND ci.person_id = an.person_id\\n  AND chn.id = ci.person_role_id\\n  AND k.id = mk.keyword_id\\n  AND t.title LIKE 'Kung Fu Panda%'\\n  AND cn.name = 'NBC Universal Television'\\nAND k.keyword IN ('claw',\\n'laser',\\n'tv-special',\\n'martial-artist')\\nAND t.production_year > 2008;\",\n",
    "    '24b', [13.965, False]], [\n",
    "    \"SELECT MIN(chn.name) AS voiced_char_name,\\n       MIN(n.name) AS voicing_actress_name,\\n       MIN(t.title) AS kung_fu_panda\\nFROM aka_name AS an,\\n     char_name AS chn,\\n     cast_info AS ci,\\n     company_name AS cn,\\n     info_type AS it,\\n     keyword AS k,\\n     movie_companies AS mc,\\n     movie_info AS mi,\\n     movie_keyword AS mk,\\n     name AS n,\\n     role_type AS rt,\\n     title AS t\\nWHERE ci.note IN ('(voice)',\\n                  '(voice: Japanese version)',\\n                  '(voice) (uncredited)',\\n                  '(voice: English version)')\\n  AND cn.country_code ='[us]'\\n  AND it.info = 'release dates'\\n  AND mi.info IS NOT NULL\\n  AND (mi.info LIKE 'Japan:%201%'\\n       OR mi.info LIKE 'USA:%201%')\\n  AND n.gender ='f'\\n  AND n.name LIKE '%An%'\\n  AND rt.role ='actress'\\n  AND t.id = mi.movie_id\\n  AND t.id = mc.movie_id\\n  AND t.id = ci.movie_id\\n  AND t.id = mk.movie_id\\n  AND mc.movie_id = ci.movie_id\\n  AND mc.movie_id = mi.movie_id\\n  AND mc.movie_id = mk.movie_id\\n  AND mi.movie_id = ci.movie_id\\n  AND mi.movie_id = mk.movie_id\\n  AND ci.movie_id = mk.movie_id\\n  AND cn.id = mc.company_id\\n  AND it.id = mi.info_type_id\\n  AND n.id = ci.person_id\\n  AND rt.id = ci.role_id\\n  AND n.id = an.person_id\\n  AND ci.person_id = an.person_id\\n  AND chn.id = ci.person_role_id\\n  AND k.id = mk.keyword_id\\n  AND t.title LIKE 'Kung Fu Panda%'\\n  AND cn.name = 'DreamWorks Animation'\\nAND k.keyword IN ('violence',\\n'fight',\\n'violence',\\n'chop-socky')\\nAND t.production_year > 2009;\",\n",
    "    '24b', [17.248, False]]]"
   ],
   "metadata": {
    "collapsed": false,
    "ExecuteTime": {
     "end_time": "2023-05-18T13:15:14.059770844Z",
     "start_time": "2023-05-18T13:15:14.041248266Z"
    }
   }
  },
  {
   "cell_type": "code",
   "execution_count": null,
   "outputs": [],
   "source": [
    "\"\"\"\n",
    "TEST_SQL[0][0]: output\n",
    "\n",
    "SELECT Clause: MIN(chn.name) AS voiced_char_name, MIN(n.name) AS voicing_actress_name, MIN(t.title) AS kung_fu_panda\n",
    "\n",
    "FROM Clause:\n",
    "    aka_name AS an\n",
    "    char_name AS chn\n",
    "    cast_info AS ci\n",
    "    company_name AS cn\n",
    "    info_type AS it\n",
    "    keyword AS k\n",
    "    movie_companies AS mc\n",
    "    movie_info AS mi\n",
    "    movie_keyword AS mk\n",
    "    name AS n\n",
    "    role_type AS rt\n",
    "    title AS t\n",
    "\n",
    "WHERE Clause(Filter):\n",
    "    ci.note IN ('(voice)', '(voice: Japanese version)', '(voice) (uncredited)', '(voice: English version)')\n",
    "    AND cn.country_code ='[us]'\n",
    "    AND it.info = 'release dates'\n",
    "    AND mi.info IS NOT NULL\n",
    "    AND (mi.info LIKE 'Japan:%201%' OR mi.info LIKE 'USA:%201%')\n",
    "    AND n.gender ='f'\n",
    "    AND n.name LIKE '%An%'\n",
    "    AND rt.role ='actress'\n",
    "    AND t.title LIKE 'Kung Fu Panda%'\n",
    "    AND cn.name = 'DreamWorks Home Entertainment'\n",
    "    AND k.keyword IN ('murder', 'marvel-comics', 'based-on-novel', 'soothsayer')\n",
    "    AND t.production_year > 2009;\n",
    "\n",
    "WHERE Clause(Join Condition)\n",
    "    AND t.id = mi.movie_id\n",
    "    AND t.id = mc.movie_id\n",
    "    AND t.id = ci.movie_id\n",
    "    AND t.id = mk.movie_id\n",
    "    AND mc.movie_id = ci.movie_id\n",
    "    AND mc.movie_id = mi.movie_id\n",
    "    AND mc.movie_id = mk.movie_id\n",
    "    AND mi.movie_id = ci.movie_id\n",
    "    AND mi.movie_id = mk.movie_id\n",
    "    AND ci.movie_id = mk.movie_id\n",
    "    AND cn.id = mc.company_id\n",
    "    AND it.id = mi.info_type_id\n",
    "    AND n.id = ci.person_id\n",
    "    AND rt.id = ci.role_id\n",
    "    AND n.id = an.person_id\n",
    "    AND ci.person_id = an.person_id\n",
    "    AND chn.id = ci.person_role_id\n",
    "    AND k.id = mk.keyword_id\n",
    "\"\"\""
   ],
   "metadata": {
    "collapsed": false
   }
  },
  {
   "cell_type": "code",
   "execution_count": 14,
   "outputs": [],
   "source": [
    "from psqlparse import parse_dict, parse\n",
    "import json\n",
    "\n",
    "res = parse_dict(TEST_SQL_LIST[0][0])[0]['SelectStmt']"
   ],
   "metadata": {
    "collapsed": false,
    "ExecuteTime": {
     "end_time": "2023-05-18T13:24:54.330940392Z",
     "start_time": "2023-05-18T13:24:54.323069349Z"
    }
   }
  },
  {
   "cell_type": "code",
   "execution_count": 21,
   "outputs": [],
   "source": [
    "q = parse(TEST_SQL_LIST[0][0])[0]"
   ],
   "metadata": {
    "collapsed": false,
    "ExecuteTime": {
     "end_time": "2023-05-18T13:36:59.672411461Z",
     "start_time": "2023-05-18T13:36:59.667908238Z"
    }
   }
  },
  {
   "cell_type": "code",
   "execution_count": 23,
   "outputs": [
    {
     "ename": "SyntaxError",
     "evalue": "invalid syntax (2511858800.py, line 23)",
     "output_type": "error",
     "traceback": [
      "\u001B[0;36m  Cell \u001B[0;32mIn[23], line 23\u001B[0;36m\u001B[0m\n\u001B[0;31m    self.from_tables = [range_var.relname: range_var.alias['Alias'] if range_var.alias is not None else None  for range_var in self.from_clause]\u001B[0m\n\u001B[0m                                         ^\u001B[0m\n\u001B[0;31mSyntaxError\u001B[0m\u001B[0;31m:\u001B[0m invalid syntax\n"
     ]
    }
   ],
   "source": [
    "class SQLRepr:\n",
    "    def __init__(self, select_stmt):\n",
    "        \"\"\"\n",
    "            select_stmt: psqlparse.nodes.parsenodes.SelectStmt\n",
    "        @param select_stmt:\n",
    "        \"\"\"\n",
    "        self.from_tables = dict()\n",
    "        self.where_conditions = dict()\n",
    "        if isinstance(select_stmt, dict):\n",
    "            self.from_clause = select_stmt['fromClause']\n",
    "            self.where_clause = select_stmt['whereClause']\n",
    "            self.target_list = select_stmt['targetList']\n",
    "            self.parse_dict()\n",
    "        else:\n",
    "            self.from_clause = select_stmt.from_clause\n",
    "            self.where_clause = select_stmt.where_clause\n",
    "            self.target_list = select_stmt.target_list\n",
    "            self.parse()\n",
    "\n",
    "    def parse(self):\n",
    "        # # 1. get table and their alias\n",
    "        self.from_tables = {range_var.relname: range_var.alias['Alias'] if range_var.alias else None for range_var in\n",
    "                            self.from_clause}\n",
    "\n",
    "\n",
    "    def parse_dict(self):\n",
    "        pass\n",
    "\n"
   ],
   "metadata": {
    "collapsed": false,
    "ExecuteTime": {
     "end_time": "2023-05-18T13:37:51.603586559Z",
     "start_time": "2023-05-18T13:37:51.562516856Z"
    }
   }
  },
  {
   "cell_type": "code",
   "execution_count": 24,
   "outputs": [],
   "source": [
    "test_sql = \"select * from a;\"\n",
    "res = parse(test_sql)"
   ],
   "metadata": {
    "collapsed": false,
    "ExecuteTime": {
     "end_time": "2023-05-18T13:39:04.619796886Z",
     "start_time": "2023-05-18T13:39:04.610333020Z"
    }
   }
  }
 ],
 "metadata": {
  "kernelspec": {
   "display_name": "Python 3",
   "language": "python",
   "name": "python3"
  },
  "language_info": {
   "codemirror_mode": {
    "name": "ipython",
    "version": 2
   },
   "file_extension": ".py",
   "mimetype": "text/x-python",
   "name": "python",
   "nbconvert_exporter": "python",
   "pygments_lexer": "ipython2",
   "version": "2.7.6"
  }
 },
 "nbformat": 4,
 "nbformat_minor": 0
}
